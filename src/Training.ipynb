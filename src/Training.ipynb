{
 "cells": [
  {
   "cell_type": "markdown",
   "metadata": {},
   "source": [
    "<h1 style=\"text-align:center;font-size:30px;\" > Training For Damage Prediction </h1>"
   ]
  },
  {
   "cell_type": "markdown",
   "metadata": {},
   "source": [
    "<p>The dataset consists of both categorial and numeric data. Therefore, preprocessing steps are \n",
    "applied on the dataset for convertng categorial variable to numberic data. Columns with higher with higher \n",
    "number of categorial variables are encoded using LabelEcnoder and other categorial variable with less than\n",
    "20 categories are converted to one-hot encoding into different columns.</p>"
   ]
  },
  {
   "cell_type": "markdown",
   "metadata": {},
   "source": [
    "<h2>1. Libraries</h2>"
   ]
  },
  {
   "cell_type": "code",
   "execution_count": 1,
   "metadata": {},
   "outputs": [
    {
     "data": {
      "text/html": [
       "        <script type=\"text/javascript\">\n",
       "        window.PlotlyConfig = {MathJaxConfig: 'local'};\n",
       "        if (window.MathJax) {MathJax.Hub.Config({SVG: {font: \"STIX-Web\"}});}\n",
       "        if (typeof require !== 'undefined') {\n",
       "        require.undef(\"plotly\");\n",
       "        requirejs.config({\n",
       "            paths: {\n",
       "                'plotly': ['https://cdn.plot.ly/plotly-latest.min']\n",
       "            }\n",
       "        });\n",
       "        require(['plotly'], function(Plotly) {\n",
       "            window._Plotly = Plotly;\n",
       "        });\n",
       "        }\n",
       "        </script>\n",
       "        "
      ]
     },
     "metadata": {},
     "output_type": "display_data"
    }
   ],
   "source": [
    "import numpy as np\n",
    "import pandas as pd\n",
    "import seaborn as sns\n",
    "import matplotlib.pyplot as plt\n",
    "from subprocess import check_output\n",
    "import plotly.offline as py\n",
    "py.init_notebook_mode(connected=True)\n",
    "\n",
    "color = sns.color_palette()\n",
    "from sklearn.preprocessing import LabelEncoder\n",
    "import pickle\n",
    "from sklearn.model_selection import train_test_split\n",
    "# Import the model we are using\n",
    "from sklearn.ensemble import RandomForestRegressor\n",
    "from sklearn import metrics\n",
    "import seaborn as seabornInstance\n",
    "%matplotlib inline\n",
    "import json"
   ]
  },
  {
   "cell_type": "markdown",
   "metadata": {},
   "source": [
    "<h2>2. Read Dataset</h2>"
   ]
  },
  {
   "cell_type": "markdown",
   "metadata": {},
   "source": [
    "<h3>2.1 Using pandas pd.read_csv function the 'podatki.csv' dataset is loaded.</h3>"
   ]
  },
  {
   "cell_type": "code",
   "execution_count": 2,
   "metadata": {},
   "outputs": [
    {
     "name": "stdout",
     "output_type": "stream",
     "text": [
      "Number of data points: 100000\n",
      "Number of data features: 35\n"
     ]
    }
   ],
   "source": [
    "df = pd.read_csv(\"../raw-data/podatki.csv\")  # Reading the dataset\n",
    " \n",
    "print(\"Number of data points:\",df.shape[0])  # printing row counts\n",
    "print(\"Number of data features:\",df.shape[1]) # printing feature count\n",
    "\n",
    "# The below code stores the data type details of the dataset which we will used during testing phase\n",
    "res = df.dtypes.to_frame('dtypes').reset_index()\n",
    "# first create dictionary\n",
    "d = res.set_index('index')['dtypes'].astype(str).to_dict()\n",
    "\n",
    "with open('../variable-details/dataTypes.json', 'w') as f:\n",
    "    json.dump(d, f)\n"
   ]
  },
  {
   "cell_type": "markdown",
   "metadata": {},
   "source": [
    "<h3>2.2 Generate schema for the raw dataset for creating table in docker postgresql</h3>"
   ]
  },
  {
   "cell_type": "code",
   "execution_count": 3,
   "metadata": {},
   "outputs": [
    {
     "data": {
      "text/plain": [
       "652"
      ]
     },
     "execution_count": 3,
     "metadata": {},
     "output_type": "execute_result"
    }
   ],
   "source": [
    "\"Schema for raw table\"\n",
    "t= pd.io.sql.get_schema(df.reset_index(), 'data')\n",
    "f= open(\"../postgres-docker/raw_data.sql\",\"w+\") # the .sql file is saved in the path \"../postgres-docker/raw_data.sql\"\n",
    "f.write(t)"
   ]
  },
  {
   "cell_type": "markdown",
   "metadata": {},
   "source": [
    "<h2>3 Visualising the dataset</h2>"
   ]
  },
  {
   "cell_type": "code",
   "execution_count": 4,
   "metadata": {},
   "outputs": [
    {
     "data": {
      "text/html": [
       "<div>\n",
       "<style scoped>\n",
       "    .dataframe tbody tr th:only-of-type {\n",
       "        vertical-align: middle;\n",
       "    }\n",
       "\n",
       "    .dataframe tbody tr th {\n",
       "        vertical-align: top;\n",
       "    }\n",
       "\n",
       "    .dataframe thead th {\n",
       "        text-align: right;\n",
       "    }\n",
       "</style>\n",
       "<table border=\"1\" class=\"dataframe\">\n",
       "  <thead>\n",
       "    <tr style=\"text-align: right;\">\n",
       "      <th></th>\n",
       "      <th>Row_ID</th>\n",
       "      <th>Household_ID</th>\n",
       "      <th>Vehicle</th>\n",
       "      <th>Calendar_Year</th>\n",
       "      <th>Model_Year</th>\n",
       "      <th>Blind_Make</th>\n",
       "      <th>Blind_Model</th>\n",
       "      <th>Blind_Submodel</th>\n",
       "      <th>Cat1</th>\n",
       "      <th>Cat2</th>\n",
       "      <th>...</th>\n",
       "      <th>Var5</th>\n",
       "      <th>Var6</th>\n",
       "      <th>Var7</th>\n",
       "      <th>Var8</th>\n",
       "      <th>NVCat</th>\n",
       "      <th>NVVar1</th>\n",
       "      <th>NVVar2</th>\n",
       "      <th>NVVar3</th>\n",
       "      <th>NVVar4</th>\n",
       "      <th>Claim_Amount</th>\n",
       "    </tr>\n",
       "  </thead>\n",
       "  <tbody>\n",
       "    <tr>\n",
       "      <th>0</th>\n",
       "      <td>10435088</td>\n",
       "      <td>6459234</td>\n",
       "      <td>4</td>\n",
       "      <td>2007</td>\n",
       "      <td>1998</td>\n",
       "      <td>G</td>\n",
       "      <td>G.8</td>\n",
       "      <td>G.8.3</td>\n",
       "      <td>F</td>\n",
       "      <td>?</td>\n",
       "      <td>...</td>\n",
       "      <td>-0.965540</td>\n",
       "      <td>-1.004587</td>\n",
       "      <td>-1.439141</td>\n",
       "      <td>-0.918689</td>\n",
       "      <td>N</td>\n",
       "      <td>-0.23153</td>\n",
       "      <td>-0.266117</td>\n",
       "      <td>-0.272337</td>\n",
       "      <td>-0.251419</td>\n",
       "      <td>0.0</td>\n",
       "    </tr>\n",
       "    <tr>\n",
       "      <th>1</th>\n",
       "      <td>2560445</td>\n",
       "      <td>1875568</td>\n",
       "      <td>1</td>\n",
       "      <td>2007</td>\n",
       "      <td>2004</td>\n",
       "      <td>BZ</td>\n",
       "      <td>BZ.11</td>\n",
       "      <td>BZ.11.2</td>\n",
       "      <td>B</td>\n",
       "      <td>A</td>\n",
       "      <td>...</td>\n",
       "      <td>-0.828755</td>\n",
       "      <td>-1.036169</td>\n",
       "      <td>-0.714171</td>\n",
       "      <td>-0.941224</td>\n",
       "      <td>M</td>\n",
       "      <td>-0.23153</td>\n",
       "      <td>-0.266117</td>\n",
       "      <td>-0.272337</td>\n",
       "      <td>-0.251419</td>\n",
       "      <td>0.0</td>\n",
       "    </tr>\n",
       "    <tr>\n",
       "      <th>2</th>\n",
       "      <td>5865974</td>\n",
       "      <td>4010054</td>\n",
       "      <td>4</td>\n",
       "      <td>2006</td>\n",
       "      <td>2003</td>\n",
       "      <td>Y</td>\n",
       "      <td>Y.42</td>\n",
       "      <td>Y.42.2</td>\n",
       "      <td>F</td>\n",
       "      <td>C</td>\n",
       "      <td>...</td>\n",
       "      <td>0.402303</td>\n",
       "      <td>-0.288724</td>\n",
       "      <td>-0.923061</td>\n",
       "      <td>-0.197237</td>\n",
       "      <td>M</td>\n",
       "      <td>-0.23153</td>\n",
       "      <td>-0.266117</td>\n",
       "      <td>-0.272337</td>\n",
       "      <td>-0.251419</td>\n",
       "      <td>0.0</td>\n",
       "    </tr>\n",
       "    <tr>\n",
       "      <th>3</th>\n",
       "      <td>1617366</td>\n",
       "      <td>922766</td>\n",
       "      <td>3</td>\n",
       "      <td>2006</td>\n",
       "      <td>1983</td>\n",
       "      <td>BW</td>\n",
       "      <td>BW.49</td>\n",
       "      <td>BW.49.1</td>\n",
       "      <td>H</td>\n",
       "      <td>?</td>\n",
       "      <td>...</td>\n",
       "      <td>-0.769284</td>\n",
       "      <td>0.182669</td>\n",
       "      <td>2.050541</td>\n",
       "      <td>-1.439512</td>\n",
       "      <td>N</td>\n",
       "      <td>-0.23153</td>\n",
       "      <td>-0.266117</td>\n",
       "      <td>2.715490</td>\n",
       "      <td>-0.251419</td>\n",
       "      <td>0.0</td>\n",
       "    </tr>\n",
       "    <tr>\n",
       "      <th>4</th>\n",
       "      <td>9914424</td>\n",
       "      <td>6289123</td>\n",
       "      <td>5</td>\n",
       "      <td>2005</td>\n",
       "      <td>1999</td>\n",
       "      <td>BW</td>\n",
       "      <td>BW.166</td>\n",
       "      <td>BW.166.0</td>\n",
       "      <td>I</td>\n",
       "      <td>C</td>\n",
       "      <td>...</td>\n",
       "      <td>0.503405</td>\n",
       "      <td>1.427241</td>\n",
       "      <td>0.932369</td>\n",
       "      <td>0.907092</td>\n",
       "      <td>M</td>\n",
       "      <td>-0.23153</td>\n",
       "      <td>-0.266117</td>\n",
       "      <td>4.209404</td>\n",
       "      <td>-0.251419</td>\n",
       "      <td>0.0</td>\n",
       "    </tr>\n",
       "  </tbody>\n",
       "</table>\n",
       "<p>5 rows × 35 columns</p>\n",
       "</div>"
      ],
      "text/plain": [
       "     Row_ID  Household_ID  Vehicle  Calendar_Year  Model_Year Blind_Make  \\\n",
       "0  10435088       6459234        4           2007        1998          G   \n",
       "1   2560445       1875568        1           2007        2004         BZ   \n",
       "2   5865974       4010054        4           2006        2003          Y   \n",
       "3   1617366        922766        3           2006        1983         BW   \n",
       "4   9914424       6289123        5           2005        1999         BW   \n",
       "\n",
       "  Blind_Model Blind_Submodel Cat1 Cat2  ...      Var5      Var6      Var7  \\\n",
       "0         G.8          G.8.3    F    ?  ... -0.965540 -1.004587 -1.439141   \n",
       "1       BZ.11        BZ.11.2    B    A  ... -0.828755 -1.036169 -0.714171   \n",
       "2        Y.42         Y.42.2    F    C  ...  0.402303 -0.288724 -0.923061   \n",
       "3       BW.49        BW.49.1    H    ?  ... -0.769284  0.182669  2.050541   \n",
       "4      BW.166       BW.166.0    I    C  ...  0.503405  1.427241  0.932369   \n",
       "\n",
       "       Var8 NVCat   NVVar1    NVVar2    NVVar3    NVVar4 Claim_Amount  \n",
       "0 -0.918689     N -0.23153 -0.266117 -0.272337 -0.251419          0.0  \n",
       "1 -0.941224     M -0.23153 -0.266117 -0.272337 -0.251419          0.0  \n",
       "2 -0.197237     M -0.23153 -0.266117 -0.272337 -0.251419          0.0  \n",
       "3 -1.439512     N -0.23153 -0.266117  2.715490 -0.251419          0.0  \n",
       "4  0.907092     M -0.23153 -0.266117  4.209404 -0.251419          0.0  \n",
       "\n",
       "[5 rows x 35 columns]"
      ]
     },
     "execution_count": 4,
     "metadata": {},
     "output_type": "execute_result"
    }
   ],
   "source": [
    "df.head()"
   ]
  },
  {
   "cell_type": "markdown",
   "metadata": {},
   "source": [
    "<h3>3.1 Displaying information about the datatypes and availability of null data</h3>"
   ]
  },
  {
   "cell_type": "code",
   "execution_count": 5,
   "metadata": {},
   "outputs": [
    {
     "name": "stdout",
     "output_type": "stream",
     "text": [
      "<class 'pandas.core.frame.DataFrame'>\n",
      "RangeIndex: 100000 entries, 0 to 99999\n",
      "Data columns (total 35 columns):\n",
      " #   Column          Non-Null Count   Dtype  \n",
      "---  ------          --------------   -----  \n",
      " 0   Row_ID          100000 non-null  int64  \n",
      " 1   Household_ID    100000 non-null  int64  \n",
      " 2   Vehicle         100000 non-null  int64  \n",
      " 3   Calendar_Year   100000 non-null  int64  \n",
      " 4   Model_Year      100000 non-null  int64  \n",
      " 5   Blind_Make      100000 non-null  object \n",
      " 6   Blind_Model     100000 non-null  object \n",
      " 7   Blind_Submodel  100000 non-null  object \n",
      " 8   Cat1            100000 non-null  object \n",
      " 9   Cat2            100000 non-null  object \n",
      " 10  Cat3            100000 non-null  object \n",
      " 11  Cat4            100000 non-null  object \n",
      " 12  Cat5            100000 non-null  object \n",
      " 13  Cat6            100000 non-null  object \n",
      " 14  Cat7            100000 non-null  object \n",
      " 15  Cat8            100000 non-null  object \n",
      " 16  Cat9            100000 non-null  object \n",
      " 17  Cat10           100000 non-null  object \n",
      " 18  Cat11           100000 non-null  object \n",
      " 19  Cat12           99789 non-null   object \n",
      " 20  OrdCat          100000 non-null  object \n",
      " 21  Var1            100000 non-null  float64\n",
      " 22  Var2            100000 non-null  float64\n",
      " 23  Var3            100000 non-null  float64\n",
      " 24  Var4            100000 non-null  float64\n",
      " 25  Var5            100000 non-null  float64\n",
      " 26  Var6            100000 non-null  float64\n",
      " 27  Var7            100000 non-null  float64\n",
      " 28  Var8            100000 non-null  float64\n",
      " 29  NVCat           100000 non-null  object \n",
      " 30  NVVar1          100000 non-null  float64\n",
      " 31  NVVar2          100000 non-null  float64\n",
      " 32  NVVar3          100000 non-null  float64\n",
      " 33  NVVar4          100000 non-null  float64\n",
      " 34  Claim_Amount    100000 non-null  float64\n",
      "dtypes: float64(13), int64(5), object(17)\n",
      "memory usage: 26.7+ MB\n"
     ]
    }
   ],
   "source": [
    "df.info()"
   ]
  },
  {
   "cell_type": "markdown",
   "metadata": {},
   "source": [
    "<h3> 3.3 Distribution of categories in different categorial variable</h3>\n",
    "- This helps in deciding the cutoff to encoding variables. Columns with greater>20 values are suitable for converting into dummies and other categorial variables are processed using LabelEncoder"
   ]
  },
  {
   "cell_type": "code",
   "execution_count": 6,
   "metadata": {},
   "outputs": [
    {
     "name": "stdout",
     "output_type": "stream",
     "text": [
      "Distinct values in column \" Blind_Make \" are  64\n",
      "Distinct values in column \" Blind_Model \" are  1000\n",
      "Distinct values in column \" Blind_Submodel \" are  2004\n",
      "Distinct values in column \" Cat1 \" are  11\n",
      "Distinct values in column \" Cat2 \" are  4\n",
      "Distinct values in column \" Cat3 \" are  7\n",
      "Distinct values in column \" Cat4 \" are  4\n",
      "Distinct values in column \" Cat5 \" are  4\n",
      "Distinct values in column \" Cat6 \" are  6\n",
      "Distinct values in column \" Cat7 \" are  5\n",
      "Distinct values in column \" Cat8 \" are  4\n",
      "Distinct values in column \" Cat9 \" are  2\n",
      "Distinct values in column \" Cat10 \" are  4\n",
      "Distinct values in column \" Cat11 \" are  7\n",
      "Distinct values in column \" Cat12 \" are  7\n",
      "Distinct values in column \" OrdCat \" are  8\n",
      "Distinct values in column \" NVCat \" are  15\n",
      "\n",
      "Columns we can convert to dummies:\n",
      " ['Cat1', 'Cat2', 'Cat3', 'Cat4', 'Cat5', 'Cat6', 'Cat7', 'Cat8', 'Cat9', 'Cat10', 'Cat11', 'Cat12', 'OrdCat', 'NVCat']\n",
      "\n",
      "Columns we can convert to categories:\n",
      " ['Blind_Make', 'Blind_Model', 'Blind_Submodel']\n"
     ]
    }
   ],
   "source": [
    "cols4dummies = []\n",
    "cols4category = []\n",
    "org_cols = list(df.columns)\n",
    "for col in org_cols:\n",
    "    if df[col].dtype== np.object:\n",
    "        l = len(df[col].unique())\n",
    "        print('Distinct values in column \"',col,'\" are ',l)\n",
    "        if l<20:\n",
    "            cols4dummies.append(col)\n",
    "        else:\n",
    "            cols4category.append(col)\n",
    "            \n",
    "print('\\nColumns we can convert to dummies:\\n',cols4dummies)  \n",
    "print('\\nColumns we can convert to categories:\\n',cols4category)"
   ]
  },
  {
   "cell_type": "markdown",
   "metadata": {},
   "source": [
    "<h3>3.4 Ploting the Claim_Amount</h3>"
   ]
  },
  {
   "cell_type": "code",
   "execution_count": 7,
   "metadata": {},
   "outputs": [
    {
     "name": "stdout",
     "output_type": "stream",
     "text": [
      "Maximum number of times a Claim_Amount is repeated: 99282\n",
      "\n"
     ]
    },
    {
     "data": {
      "image/png": "[encoded data removed]",
      "text/plain": [
       "<Figure size 1440x720 with 1 Axes>"
      ]
     },
     "metadata": {
      "needs_background": "light"
     },
     "output_type": "display_data"
    }
   ],
   "source": [
    "plt.figure(figsize=(20, 10))\n",
    "plt.hist(df['Claim_Amount'].value_counts(), bins=160)\n",
    "plt.yscale('log', nonposy='clip')\n",
    "plt.title('Log-Histogram of Claim_Amount counts')\n",
    "plt.xlabel('Number of occurences of Claim_Amount amount')\n",
    "plt.ylabel('Number of questions')\n",
    "print ('Maximum number of times a Claim_Amount is repeated: {}\\n'.format(max(df['Claim_Amount'].value_counts()))) "
   ]
  },
  {
   "cell_type": "markdown",
   "metadata": {},
   "source": [
    "<h2>4. Preprocessing Categorial Columns</h2>\n",
    "- converting columns into dummies which have categoris less than 20"
   ]
  },
  {
   "cell_type": "code",
   "execution_count": 8,
   "metadata": {},
   "outputs": [],
   "source": [
    "df = pd.get_dummies(df, columns=cols4dummies)"
   ]
  },
  {
   "cell_type": "markdown",
   "metadata": {},
   "source": [
    "<h3>4.1 Columns count after dummification</h3>\n"
   ]
  },
  {
   "cell_type": "code",
   "execution_count": 9,
   "metadata": {},
   "outputs": [
    {
     "name": "stdout",
     "output_type": "stream",
     "text": [
      "After getting dummies columns\n",
      "Number of data points: 100000\n",
      "Number of data features: 108\n"
     ]
    }
   ],
   "source": [
    "print('After getting dummies columns')\n",
    "print(\"Number of data points:\",df.shape[0])\n",
    "print(\"Number of data features:\",df.shape[1])"
   ]
  },
  {
   "cell_type": "code",
   "execution_count": null,
   "metadata": {},
   "outputs": [],
   "source": []
  },
  {
   "cell_type": "markdown",
   "metadata": {},
   "source": [
    "<h3>4.2 Converting larger categorial variables using Label encoder and saving the encoders as .pkl file</h3>\n"
   ]
  },
  {
   "cell_type": "code",
   "execution_count": 10,
   "metadata": {},
   "outputs": [],
   "source": [
    "#https://stackoverflow.com/questions/28656736/using-scikits-labelencoder-correctly-across-multiple-programs\n",
    "\n",
    "le = LabelEncoder()   \n",
    "for col in cols4category:\n",
    "    df[col] = le.fit_transform(df[col])\n",
    "#exporting the departure encoder\n",
    "    output = open('../encoder-files/'+col+'.pkl', 'wb')\n",
    "    pickle.dump(le, output)\n",
    "    output.close()"
   ]
  },
  {
   "cell_type": "markdown",
   "metadata": {},
   "source": [
    "<h3>4.3 Columns count after Label Encoder is not changed</h3>\n"
   ]
  },
  {
   "cell_type": "code",
   "execution_count": 11,
   "metadata": {},
   "outputs": [
    {
     "name": "stdout",
     "output_type": "stream",
     "text": [
      "After getting dummies columns\n",
      "Number of data points: 100000\n",
      "Number of data features: 108\n"
     ]
    }
   ],
   "source": [
    "print('After getting dummies columns')\n",
    "print(\"Number of data points:\",df.shape[0])\n",
    "print(\"Number of data features:\",df.shape[1])"
   ]
  },
  {
   "cell_type": "code",
   "execution_count": 12,
   "metadata": {},
   "outputs": [],
   "source": [
    "for col in df.columns:\n",
    "    if df[col].dtype== np.object:\n",
    "        l = len(df[col].unique())\n",
    "        print('Distinct values in column \"',col,'\" are ',l)"
   ]
  },
  {
   "cell_type": "code",
   "execution_count": 13,
   "metadata": {},
   "outputs": [
    {
     "data": {
      "text/html": [
       "<div>\n",
       "<style scoped>\n",
       "    .dataframe tbody tr th:only-of-type {\n",
       "        vertical-align: middle;\n",
       "    }\n",
       "\n",
       "    .dataframe tbody tr th {\n",
       "        vertical-align: top;\n",
       "    }\n",
       "\n",
       "    .dataframe thead th {\n",
       "        text-align: right;\n",
       "    }\n",
       "</style>\n",
       "<table border=\"1\" class=\"dataframe\">\n",
       "  <thead>\n",
       "    <tr style=\"text-align: right;\">\n",
       "      <th></th>\n",
       "      <th>Row_ID</th>\n",
       "      <th>Household_ID</th>\n",
       "      <th>Vehicle</th>\n",
       "      <th>Calendar_Year</th>\n",
       "      <th>Model_Year</th>\n",
       "      <th>Blind_Make</th>\n",
       "      <th>Blind_Model</th>\n",
       "      <th>Blind_Submodel</th>\n",
       "      <th>Var1</th>\n",
       "      <th>Var2</th>\n",
       "      <th>...</th>\n",
       "      <th>NVCat_F</th>\n",
       "      <th>NVCat_G</th>\n",
       "      <th>NVCat_H</th>\n",
       "      <th>NVCat_I</th>\n",
       "      <th>NVCat_J</th>\n",
       "      <th>NVCat_K</th>\n",
       "      <th>NVCat_L</th>\n",
       "      <th>NVCat_M</th>\n",
       "      <th>NVCat_N</th>\n",
       "      <th>NVCat_O</th>\n",
       "    </tr>\n",
       "  </thead>\n",
       "  <tbody>\n",
       "    <tr>\n",
       "      <th>0</th>\n",
       "      <td>10435088</td>\n",
       "      <td>6459234</td>\n",
       "      <td>4</td>\n",
       "      <td>2007</td>\n",
       "      <td>1998</td>\n",
       "      <td>45</td>\n",
       "      <td>702</td>\n",
       "      <td>1271</td>\n",
       "      <td>-1.059611</td>\n",
       "      <td>-0.816152</td>\n",
       "      <td>...</td>\n",
       "      <td>0</td>\n",
       "      <td>0</td>\n",
       "      <td>0</td>\n",
       "      <td>0</td>\n",
       "      <td>0</td>\n",
       "      <td>0</td>\n",
       "      <td>0</td>\n",
       "      <td>0</td>\n",
       "      <td>1</td>\n",
       "      <td>0</td>\n",
       "    </tr>\n",
       "    <tr>\n",
       "      <th>1</th>\n",
       "      <td>2560445</td>\n",
       "      <td>1875568</td>\n",
       "      <td>1</td>\n",
       "      <td>2007</td>\n",
       "      <td>2004</td>\n",
       "      <td>41</td>\n",
       "      <td>662</td>\n",
       "      <td>1203</td>\n",
       "      <td>-0.770352</td>\n",
       "      <td>-1.179266</td>\n",
       "      <td>...</td>\n",
       "      <td>0</td>\n",
       "      <td>0</td>\n",
       "      <td>0</td>\n",
       "      <td>0</td>\n",
       "      <td>0</td>\n",
       "      <td>0</td>\n",
       "      <td>0</td>\n",
       "      <td>1</td>\n",
       "      <td>0</td>\n",
       "      <td>0</td>\n",
       "    </tr>\n",
       "    <tr>\n",
       "      <th>2</th>\n",
       "      <td>5865974</td>\n",
       "      <td>4010054</td>\n",
       "      <td>4</td>\n",
       "      <td>2006</td>\n",
       "      <td>2003</td>\n",
       "      <td>62</td>\n",
       "      <td>979</td>\n",
       "      <td>1976</td>\n",
       "      <td>-0.119519</td>\n",
       "      <td>-0.124506</td>\n",
       "      <td>...</td>\n",
       "      <td>0</td>\n",
       "      <td>0</td>\n",
       "      <td>0</td>\n",
       "      <td>0</td>\n",
       "      <td>0</td>\n",
       "      <td>0</td>\n",
       "      <td>0</td>\n",
       "      <td>1</td>\n",
       "      <td>0</td>\n",
       "      <td>0</td>\n",
       "    </tr>\n",
       "    <tr>\n",
       "      <th>3</th>\n",
       "      <td>1617366</td>\n",
       "      <td>922766</td>\n",
       "      <td>3</td>\n",
       "      <td>2006</td>\n",
       "      <td>1983</td>\n",
       "      <td>39</td>\n",
       "      <td>624</td>\n",
       "      <td>1137</td>\n",
       "      <td>-0.159693</td>\n",
       "      <td>-0.470329</td>\n",
       "      <td>...</td>\n",
       "      <td>0</td>\n",
       "      <td>0</td>\n",
       "      <td>0</td>\n",
       "      <td>0</td>\n",
       "      <td>0</td>\n",
       "      <td>0</td>\n",
       "      <td>0</td>\n",
       "      <td>0</td>\n",
       "      <td>1</td>\n",
       "      <td>0</td>\n",
       "    </tr>\n",
       "    <tr>\n",
       "      <th>4</th>\n",
       "      <td>9914424</td>\n",
       "      <td>6289123</td>\n",
       "      <td>5</td>\n",
       "      <td>2005</td>\n",
       "      <td>1999</td>\n",
       "      <td>39</td>\n",
       "      <td>595</td>\n",
       "      <td>1098</td>\n",
       "      <td>0.442930</td>\n",
       "      <td>1.172330</td>\n",
       "      <td>...</td>\n",
       "      <td>0</td>\n",
       "      <td>0</td>\n",
       "      <td>0</td>\n",
       "      <td>0</td>\n",
       "      <td>0</td>\n",
       "      <td>0</td>\n",
       "      <td>0</td>\n",
       "      <td>1</td>\n",
       "      <td>0</td>\n",
       "      <td>0</td>\n",
       "    </tr>\n",
       "  </tbody>\n",
       "</table>\n",
       "<p>5 rows × 108 columns</p>\n",
       "</div>"
      ],
      "text/plain": [
       "     Row_ID  Household_ID  Vehicle  Calendar_Year  Model_Year  Blind_Make  \\\n",
       "0  10435088       6459234        4           2007        1998          45   \n",
       "1   2560445       1875568        1           2007        2004          41   \n",
       "2   5865974       4010054        4           2006        2003          62   \n",
       "3   1617366        922766        3           2006        1983          39   \n",
       "4   9914424       6289123        5           2005        1999          39   \n",
       "\n",
       "   Blind_Model  Blind_Submodel      Var1      Var2  ...  NVCat_F  NVCat_G  \\\n",
       "0          702            1271 -1.059611 -0.816152  ...        0        0   \n",
       "1          662            1203 -0.770352 -1.179266  ...        0        0   \n",
       "2          979            1976 -0.119519 -0.124506  ...        0        0   \n",
       "3          624            1137 -0.159693 -0.470329  ...        0        0   \n",
       "4          595            1098  0.442930  1.172330  ...        0        0   \n",
       "\n",
       "   NVCat_H  NVCat_I  NVCat_J  NVCat_K  NVCat_L  NVCat_M  NVCat_N  NVCat_O  \n",
       "0        0        0        0        0        0        0        1        0  \n",
       "1        0        0        0        0        0        1        0        0  \n",
       "2        0        0        0        0        0        1        0        0  \n",
       "3        0        0        0        0        0        0        1        0  \n",
       "4        0        0        0        0        0        1        0        0  \n",
       "\n",
       "[5 rows x 108 columns]"
      ]
     },
     "execution_count": 13,
     "metadata": {},
     "output_type": "execute_result"
    }
   ],
   "source": [
    "df.head()"
   ]
  },
  {
   "cell_type": "markdown",
   "metadata": {},
   "source": [
    "<h3>4.3 Drop columns such Row_ID and Household_ID which are unique identifies as \n",
    "they are not usefull for predicition</h3>\n"
   ]
  },
  {
   "cell_type": "code",
   "execution_count": 14,
   "metadata": {},
   "outputs": [],
   "source": [
    "df.drop(['Row_ID','Household_ID'], axis=1, inplace=True)"
   ]
  },
  {
   "cell_type": "code",
   "execution_count": 15,
   "metadata": {},
   "outputs": [
    {
     "name": "stdout",
     "output_type": "stream",
     "text": [
      "After getting dummies columns\n",
      "Number of data points: 100000\n",
      "Number of data features: 106\n"
     ]
    }
   ],
   "source": [
    "print('After getting dummies columns')\n",
    "print(\"Number of data points:\",df.shape[0])\n",
    "print(\"Number of data features:\",df.shape[1])"
   ]
  },
  {
   "cell_type": "markdown",
   "metadata": {},
   "source": [
    "<h3>4.4 Save Schema of the processed dataset for creating table in database</h3>\n"
   ]
  },
  {
   "cell_type": "code",
   "execution_count": 16,
   "metadata": {},
   "outputs": [
    {
     "data": {
      "text/plain": [
       "2187"
      ]
     },
     "execution_count": 16,
     "metadata": {},
     "output_type": "execute_result"
    }
   ],
   "source": [
    "\"Schema for raw table\"\n",
    "t= pd.io.sql.get_schema(df.reset_index(), 'data')\n",
    "f= open(\"../postgres-docker/pocessed_data.sql\",\"w+\")\n",
    "f.write(t)"
   ]
  },
  {
   "cell_type": "markdown",
   "metadata": {},
   "source": [
    "<h2>5 Split into Train(80%) and Test(20%)</h2>\n"
   ]
  },
  {
   "cell_type": "code",
   "execution_count": 17,
   "metadata": {},
   "outputs": [],
   "source": [
    "\n",
    "train_df, val_df, test_df = np.split(df.sample(frac=1), [int(.6*len(df)), int(.8*len(df))])\n",
    "\n",
    "train_df,test_df,class_train,class_test  = train_test_split(df.loc[:, df.columns != 'Claim_Amount'],df['Claim_Amount'],test_size=0.2,train_size=0.8,random_state = 0)\n"
   ]
  },
  {
   "cell_type": "code",
   "execution_count": 18,
   "metadata": {},
   "outputs": [
    {
     "name": "stdout",
     "output_type": "stream",
     "text": [
      "Train data: (80000, 105)   0.8\n",
      "Test data: (20000, 105)   0.2\n"
     ]
    }
   ],
   "source": [
    "print('Train data:',train_df.shape,\" \", len(train_df)/len(df))\n",
    "print('Test data:',test_df.shape,\" \",len(test_df)/len(df))"
   ]
  },
  {
   "cell_type": "code",
   "execution_count": 19,
   "metadata": {},
   "outputs": [],
   "source": [
    "res = train_df.dtypes.to_frame('dtypes').reset_index()\n",
    "# first create dictionary\n",
    "d = res.set_index('index')['dtypes'].astype(str).to_dict()\n",
    "\n",
    "with open('../variable-details/TrainDataTypes.json', 'w') as f:\n",
    "    json.dump(d, f)"
   ]
  },
  {
   "cell_type": "code",
   "execution_count": 20,
   "metadata": {},
   "outputs": [],
   "source": [
    "df.to_csv(\"../train-test-data/Processed_data.csv\")"
   ]
  },
  {
   "cell_type": "markdown",
   "metadata": {},
   "source": [
    "<h2>6 Fit Random Forest Model and save the trained model for testing</h2>\n"
   ]
  },
  {
   "cell_type": "code",
   "execution_count": 48,
   "metadata": {},
   "outputs": [],
   "source": [
    "#https://towardsdatascience.com/random-forest-in-python-24d0893d51c0\n",
    "rf = RandomForestRegressor(n_estimators = 500, random_state = 42)# Train the model on training data\n",
    "rf.fit(train_df, class_train)\n",
    "pickle.dump(rf, open('../saved-model/RandomForestModel.sav', 'wb'))"
   ]
  },
  {
   "cell_type": "code",
   "execution_count": 49,
   "metadata": {},
   "outputs": [
    {
     "name": "stdout",
     "output_type": "stream",
     "text": [
      "Mean Absolute Error: 3.5 degrees.\n"
     ]
    }
   ],
   "source": [
    "# Use the forest's predict method on the test data\n",
    "predictions = rf.predict(test_df)# Calculate the absolute errors\n",
    "errors = abs(predictions - class_test)# Print out the mean absolute error (mae)\n",
    "print('Mean Absolute Error:', round(np.mean(errors), 2), 'degrees.')#"
   ]
  },
  {
   "cell_type": "code",
   "execution_count": null,
   "metadata": {},
   "outputs": [],
   "source": []
  },
  {
   "cell_type": "code",
   "execution_count": null,
   "metadata": {},
   "outputs": [],
   "source": []
  }
 ],
 "metadata": {
  "kernelspec": {
   "display_name": "Python 3",
   "language": "python",
   "name": "python3"
  },
  "language_info": {
   "codemirror_mode": {
    "name": "ipython",
    "version": 3
   },
   "file_extension": ".py",
   "mimetype": "text/x-python",
   "name": "python",
   "nbconvert_exporter": "python",
   "pygments_lexer": "ipython3",
   "version": "3.6.9"
  }
 },
 "nbformat": 4,
 "nbformat_minor": 4
}
